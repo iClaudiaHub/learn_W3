{
 "cells": [
  {
   "cell_type": "markdown",
   "id": "f8f139c2",
   "metadata": {},
   "source": [
    "Get the Data"
   ]
  },
  {
   "cell_type": "code",
   "execution_count": null,
   "id": "ffe6c001",
   "metadata": {},
   "outputs": [],
   "source": []
  },
  {
   "cell_type": "code",
   "execution_count": 2,
   "id": "cb77877f",
   "metadata": {},
   "outputs": [
    {
     "data": {
      "text/html": [
       "<div>\n",
       "<style scoped>\n",
       "    .dataframe tbody tr th:only-of-type {\n",
       "        vertical-align: middle;\n",
       "    }\n",
       "\n",
       "    .dataframe tbody tr th {\n",
       "        vertical-align: top;\n",
       "    }\n",
       "\n",
       "    .dataframe thead th {\n",
       "        text-align: right;\n",
       "    }\n",
       "</style>\n",
       "<table border=\"1\" class=\"dataframe\">\n",
       "  <thead>\n",
       "    <tr style=\"text-align: right;\">\n",
       "      <th></th>\n",
       "      <th>Rec #.</th>\n",
       "      <th>ticket_id</th>\n",
       "      <th>ticket_type</th>\n",
       "      <th>ticket_code</th>\n",
       "      <th>ticket_source</th>\n",
       "      <th>odds</th>\n",
       "      <th>payed</th>\n",
       "      <th>win</th>\n",
       "      <th>posWin</th>\n",
       "      <th>date</th>\n",
       "      <th>time</th>\n",
       "      <th>status</th>\n",
       "      <th>checked</th>\n",
       "      <th>disabled</th>\n",
       "      <th>post_id</th>\n",
       "      <th>site_id</th>\n",
       "      <th>player_id</th>\n",
       "      <th>timecreated</th>\n",
       "      <th>Unnamed: 18</th>\n",
       "      <th>Unnamed: 19</th>\n",
       "    </tr>\n",
       "  </thead>\n",
       "  <tbody>\n",
       "    <tr>\n",
       "      <th>0</th>\n",
       "      <td>19765.0</td>\n",
       "      <td>MzQyMDIyMDgxNDU0MTYwMTp_NbSryi6tAsdjv5g=</td>\n",
       "      <td>AKO</td>\n",
       "      <td>3420220814541600.00</td>\n",
       "      <td>Mobile</td>\n",
       "      <td>28.52</td>\n",
       "      <td>100.0</td>\n",
       "      <td>0.0</td>\n",
       "      <td>2258.78</td>\n",
       "      <td>44642.0</td>\n",
       "      <td>13:m36:56</td>\n",
       "      <td>LOSS</td>\n",
       "      <td>1.0</td>\n",
       "      <td>0.0</td>\n",
       "      <td>6239c4a6a1bfd43c9b22861d</td>\n",
       "      <td>2.0</td>\n",
       "      <td>9511.0</td>\n",
       "      <td>44666.43</td>\n",
       "      <td>NaN</td>\n",
       "      <td>NaN</td>\n",
       "    </tr>\n",
       "    <tr>\n",
       "      <th>1</th>\n",
       "      <td>36040.0</td>\n",
       "      <td>MzQyMzIyMDkxMjg1NjEwMDrDxOD1TXlnwJdaPaA=</td>\n",
       "      <td>AKO</td>\n",
       "      <td>3423220912856100.00</td>\n",
       "      <td>Mobile</td>\n",
       "      <td>9.24</td>\n",
       "      <td>232.0</td>\n",
       "      <td>0.0</td>\n",
       "      <td>1886.44</td>\n",
       "      <td>44652.0</td>\n",
       "      <td>09:m56:01</td>\n",
       "      <td>WIN</td>\n",
       "      <td>1.0</td>\n",
       "      <td>0.0</td>\n",
       "      <td>6246b17b2dfbfa090ec2d010</td>\n",
       "      <td>2.0</td>\n",
       "      <td>987.0</td>\n",
       "      <td>44653.07</td>\n",
       "      <td>NaN</td>\n",
       "      <td>NaN</td>\n",
       "    </tr>\n",
       "    <tr>\n",
       "      <th>2</th>\n",
       "      <td>36039.0</td>\n",
       "      <td>MzQyMDIyMDkxMjcyOTYwMDpnwFfCWz2mXOsGGtM=</td>\n",
       "      <td>AKO</td>\n",
       "      <td>3420220912729600.00</td>\n",
       "      <td>Mobile</td>\n",
       "      <td>173.21</td>\n",
       "      <td>10.0</td>\n",
       "      <td>0.0</td>\n",
       "      <td>1524.25</td>\n",
       "      <td>44652.0</td>\n",
       "      <td>09:m34:56</td>\n",
       "      <td>WIN</td>\n",
       "      <td>1.0</td>\n",
       "      <td>0.0</td>\n",
       "      <td>6246b20195ce2873a3596747</td>\n",
       "      <td>2.0</td>\n",
       "      <td>1198.0</td>\n",
       "      <td>44653.07</td>\n",
       "      <td>NaN</td>\n",
       "      <td>NaN</td>\n",
       "    </tr>\n",
       "    <tr>\n",
       "      <th>3</th>\n",
       "      <td>36038.0</td>\n",
       "      <td>MzQyMDIyMDkxMjkwNTEwMjoDocYxoJORkWE-Q0A=</td>\n",
       "      <td>AKO</td>\n",
       "      <td>3420220912905100.00</td>\n",
       "      <td>Mobile</td>\n",
       "      <td>1374.48</td>\n",
       "      <td>10.0</td>\n",
       "      <td>0.0</td>\n",
       "      <td>10.00</td>\n",
       "      <td>44652.0</td>\n",
       "      <td>10:m4:11</td>\n",
       "      <td>WIN</td>\n",
       "      <td>1.0</td>\n",
       "      <td>0.0</td>\n",
       "      <td>6246b21f50b11a31eb4ce70a</td>\n",
       "      <td>2.0</td>\n",
       "      <td>891.0</td>\n",
       "      <td>44653.07</td>\n",
       "      <td>NaN</td>\n",
       "      <td>NaN</td>\n",
       "    </tr>\n",
       "    <tr>\n",
       "      <th>4</th>\n",
       "      <td>36037.0</td>\n",
       "      <td>Mzk5MDEyMDkxMjU5MjEwMDoYNvw-DNgAkblDMsc=</td>\n",
       "      <td>AKO</td>\n",
       "      <td>3990120912592100.00</td>\n",
       "      <td>Online</td>\n",
       "      <td>20.27</td>\n",
       "      <td>5.0</td>\n",
       "      <td>0.0</td>\n",
       "      <td>89.19</td>\n",
       "      <td>44652.0</td>\n",
       "      <td>09:m12:01</td>\n",
       "      <td>WIN</td>\n",
       "      <td>1.0</td>\n",
       "      <td>0.0</td>\n",
       "      <td>6246b22a52ee181a0c471861</td>\n",
       "      <td>2.0</td>\n",
       "      <td>1199.0</td>\n",
       "      <td>44653.07</td>\n",
       "      <td>NaN</td>\n",
       "      <td>NaN</td>\n",
       "    </tr>\n",
       "  </tbody>\n",
       "</table>\n",
       "</div>"
      ],
      "text/plain": [
       "    Rec #.                                 ticket_id ticket_type  \\\n",
       "0  19765.0  MzQyMDIyMDgxNDU0MTYwMTp_NbSryi6tAsdjv5g=         AKO   \n",
       "1  36040.0  MzQyMzIyMDkxMjg1NjEwMDrDxOD1TXlnwJdaPaA=         AKO   \n",
       "2  36039.0  MzQyMDIyMDkxMjcyOTYwMDpnwFfCWz2mXOsGGtM=         AKO   \n",
       "3  36038.0  MzQyMDIyMDkxMjkwNTEwMjoDocYxoJORkWE-Q0A=         AKO   \n",
       "4  36037.0  Mzk5MDEyMDkxMjU5MjEwMDoYNvw-DNgAkblDMsc=         AKO   \n",
       "\n",
       "           ticket_code ticket_source     odds  payed  win   posWin     date  \\\n",
       "0  3420220814541600.00        Mobile    28.52  100.0  0.0  2258.78  44642.0   \n",
       "1  3423220912856100.00        Mobile     9.24  232.0  0.0  1886.44  44652.0   \n",
       "2  3420220912729600.00        Mobile   173.21   10.0  0.0  1524.25  44652.0   \n",
       "3  3420220912905100.00        Mobile  1374.48   10.0  0.0    10.00  44652.0   \n",
       "4  3990120912592100.00        Online    20.27    5.0  0.0    89.19  44652.0   \n",
       "\n",
       "        time status  checked  disabled                   post_id  site_id  \\\n",
       "0  13:m36:56   LOSS      1.0       0.0  6239c4a6a1bfd43c9b22861d      2.0   \n",
       "1  09:m56:01    WIN      1.0       0.0  6246b17b2dfbfa090ec2d010      2.0   \n",
       "2  09:m34:56    WIN      1.0       0.0  6246b20195ce2873a3596747      2.0   \n",
       "3   10:m4:11    WIN      1.0       0.0  6246b21f50b11a31eb4ce70a      2.0   \n",
       "4  09:m12:01    WIN      1.0       0.0  6246b22a52ee181a0c471861      2.0   \n",
       "\n",
       "   player_id  timecreated  Unnamed: 18  Unnamed: 19  \n",
       "0     9511.0     44666.43          NaN          NaN  \n",
       "1      987.0     44653.07          NaN          NaN  \n",
       "2     1198.0     44653.07          NaN          NaN  \n",
       "3      891.0     44653.07          NaN          NaN  \n",
       "4     1199.0     44653.07          NaN          NaN  "
      ]
     },
     "execution_count": 2,
     "metadata": {},
     "output_type": "execute_result"
    }
   ],
   "source": [
    "import pandas as pd\n",
    "load_data = pd.read_csv('fortuna_tickets.csv')\n",
    "load_data.head()"
   ]
  },
  {
   "cell_type": "code",
   "execution_count": 6,
   "id": "1125f59c",
   "metadata": {},
   "outputs": [],
   "source": [
    "d_data = load_data.drop(['ticket_id', 'ticket_type', 'ticket_type', 'ticket_code', 'ticket_source','payed',\n",
    "                     'date', 'time','status','checked', 'disabled', 'post_id', 'site_id', 'timecreated',\n",
    "                      'Unnamed: 18', 'Unnamed: 19'], axis=1)"
   ]
  },
  {
   "cell_type": "code",
   "execution_count": 7,
   "id": "fcb03f42",
   "metadata": {},
   "outputs": [
    {
     "data": {
      "text/html": [
       "<div>\n",
       "<style scoped>\n",
       "    .dataframe tbody tr th:only-of-type {\n",
       "        vertical-align: middle;\n",
       "    }\n",
       "\n",
       "    .dataframe tbody tr th {\n",
       "        vertical-align: top;\n",
       "    }\n",
       "\n",
       "    .dataframe thead th {\n",
       "        text-align: right;\n",
       "    }\n",
       "</style>\n",
       "<table border=\"1\" class=\"dataframe\">\n",
       "  <thead>\n",
       "    <tr style=\"text-align: right;\">\n",
       "      <th></th>\n",
       "      <th>Rec #.</th>\n",
       "      <th>odds</th>\n",
       "      <th>win</th>\n",
       "      <th>posWin</th>\n",
       "      <th>player_id</th>\n",
       "    </tr>\n",
       "  </thead>\n",
       "  <tbody>\n",
       "    <tr>\n",
       "      <th>0</th>\n",
       "      <td>19765.0</td>\n",
       "      <td>28.52</td>\n",
       "      <td>0.0</td>\n",
       "      <td>2258.78</td>\n",
       "      <td>9511.0</td>\n",
       "    </tr>\n",
       "    <tr>\n",
       "      <th>1</th>\n",
       "      <td>36040.0</td>\n",
       "      <td>9.24</td>\n",
       "      <td>0.0</td>\n",
       "      <td>1886.44</td>\n",
       "      <td>987.0</td>\n",
       "    </tr>\n",
       "    <tr>\n",
       "      <th>2</th>\n",
       "      <td>36039.0</td>\n",
       "      <td>173.21</td>\n",
       "      <td>0.0</td>\n",
       "      <td>1524.25</td>\n",
       "      <td>1198.0</td>\n",
       "    </tr>\n",
       "    <tr>\n",
       "      <th>3</th>\n",
       "      <td>36038.0</td>\n",
       "      <td>1374.48</td>\n",
       "      <td>0.0</td>\n",
       "      <td>10.00</td>\n",
       "      <td>891.0</td>\n",
       "    </tr>\n",
       "    <tr>\n",
       "      <th>4</th>\n",
       "      <td>36037.0</td>\n",
       "      <td>20.27</td>\n",
       "      <td>0.0</td>\n",
       "      <td>89.19</td>\n",
       "      <td>1199.0</td>\n",
       "    </tr>\n",
       "  </tbody>\n",
       "</table>\n",
       "</div>"
      ],
      "text/plain": [
       "    Rec #.     odds  win   posWin  player_id\n",
       "0  19765.0    28.52  0.0  2258.78     9511.0\n",
       "1  36040.0     9.24  0.0  1886.44      987.0\n",
       "2  36039.0   173.21  0.0  1524.25     1198.0\n",
       "3  36038.0  1374.48  0.0    10.00      891.0\n",
       "4  36037.0    20.27  0.0    89.19     1199.0"
      ]
     },
     "execution_count": 7,
     "metadata": {},
     "output_type": "execute_result"
    }
   ],
   "source": [
    "d_data.head()"
   ]
  },
  {
   "cell_type": "code",
   "execution_count": 8,
   "id": "949180a4",
   "metadata": {},
   "outputs": [
    {
     "data": {
      "text/plain": [
       "<AxesSubplot:>"
      ]
     },
     "execution_count": 8,
     "metadata": {},
     "output_type": "execute_result"
    },
    {
     "data": {
      "image/png": "[encoded data removed]",
      "text/plain": [
       "<Figure size 432x288 with 1 Axes>"
      ]
     },
     "metadata": {
      "needs_background": "light"
     },
     "output_type": "display_data"
    }
   ],
   "source": [
    "d_data.plot()"
   ]
  },
  {
   "cell_type": "code",
   "execution_count": 11,
   "id": "beec0681",
   "metadata": {},
   "outputs": [
    {
     "data": {
      "image/png": "[encoded data removed]",
      "text/plain": [
       "<Figure size 1440x1080 with 6 Axes>"
      ]
     },
     "metadata": {
      "needs_background": "light"
     },
     "output_type": "display_data"
    }
   ],
   "source": [
    "%matplotlib inline\n",
    "import matplotlib.pyplot as plt\n",
    "\n",
    "d_data.hist(bins=10, figsize=(20,15))\n",
    "plt.show()"
   ]
  },
  {
   "cell_type": "code",
   "execution_count": null,
   "id": "93a2e3d0",
   "metadata": {},
   "outputs": [],
   "source": []
  }
 ],
 "metadata": {
  "kernelspec": {
   "display_name": "Python 3 (ipykernel)",
   "language": "python",
   "name": "python3"
  },
  "language_info": {
   "codemirror_mode": {
    "name": "ipython",
    "version": 3
   },
   "file_extension": ".py",
   "mimetype": "text/x-python",
   "name": "python",
   "nbconvert_exporter": "python",
   "pygments_lexer": "ipython3",
   "version": "3.8.13"
  }
 },
 "nbformat": 4,
 "nbformat_minor": 5
}
